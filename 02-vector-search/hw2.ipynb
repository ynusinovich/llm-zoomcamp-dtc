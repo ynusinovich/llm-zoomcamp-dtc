{
 "cells": [
  {
   "cell_type": "code",
   "execution_count": 41,
   "id": "f4e5f97b",
   "metadata": {},
   "outputs": [],
   "source": [
    "from fastembed import TextEmbedding"
   ]
  },
  {
   "cell_type": "markdown",
   "id": "aeafd19c",
   "metadata": {},
   "source": [
    "Q1. Embedding the query\n",
    "\n",
    "Embed the query: 'I just discovered the course. Can I join now?'. Use the 'jinaai/jina-embeddings-v2-small-en' model.\n",
    "\n",
    "You should get a numpy array of size 512.\n",
    "\n",
    "What's the minimal value in this array?\n",
    "\n",
    "-0.51\n",
    "\n",
    "-0.11\n",
    "\n",
    "0\n",
    "\n",
    "0.51"
   ]
  },
  {
   "cell_type": "code",
   "execution_count": 42,
   "id": "2349130f",
   "metadata": {},
   "outputs": [
    {
     "name": "stdout",
     "output_type": "stream",
     "text": [
      "512\n",
      "-0.11726373885183883\n"
     ]
    }
   ],
   "source": [
    "model_handle = \"jinaai/jina-embeddings-v2-small-en\"\n",
    "embedder = TextEmbedding(model_name=model_handle)\n",
    "\n",
    "sentence = \"I just discovered the course. Can I join now?\"\n",
    "embedding = next(embedder.embed([sentence]))\n",
    "\n",
    "print(len(embedding))\n",
    "print(min(embedding))"
   ]
  },
  {
   "cell_type": "code",
   "execution_count": 43,
   "id": "4a37bf37",
   "metadata": {},
   "outputs": [
    {
     "data": {
      "text/plain": [
       "np.float64(1.0)"
      ]
     },
     "execution_count": 43,
     "metadata": {},
     "output_type": "execute_result"
    }
   ],
   "source": [
    "import numpy as np\n",
    "np.linalg.norm(embedding)\n"
   ]
  },
  {
   "cell_type": "code",
   "execution_count": 44,
   "id": "d769d3a7",
   "metadata": {},
   "outputs": [
    {
     "data": {
      "text/plain": [
       "np.float64(1.0000000000000002)"
      ]
     },
     "execution_count": 44,
     "metadata": {},
     "output_type": "execute_result"
    }
   ],
   "source": [
    "embedding.dot(embedding)"
   ]
  },
  {
   "cell_type": "markdown",
   "id": "fe226220",
   "metadata": {},
   "source": [
    "Q2. Cosine similarity with another vector\n",
    "\n",
    "Now let's embed this document:\n",
    "\n",
    "doc = 'Can I still join the course after the start date?'"
   ]
  },
  {
   "cell_type": "code",
   "execution_count": 45,
   "id": "d7ce2bf1",
   "metadata": {},
   "outputs": [
    {
     "data": {
      "text/plain": [
       "np.float64(0.9008528895674548)"
      ]
     },
     "execution_count": 45,
     "metadata": {},
     "output_type": "execute_result"
    }
   ],
   "source": [
    "sentence2 = \"Can I still join the course after the start date?\"\n",
    "embedding2 = next(embedder.embed([sentence2]))\n",
    "\n",
    "embedding.dot(embedding2)"
   ]
  },
  {
   "cell_type": "markdown",
   "id": "aeda6693",
   "metadata": {},
   "source": [
    "Q3. Ranking by cosine\n",
    "\n",
    "For Q3 and Q4 we will use these documents."
   ]
  },
  {
   "cell_type": "code",
   "execution_count": 46,
   "id": "4f6290b8",
   "metadata": {},
   "outputs": [],
   "source": [
    "documents = [{'text': \"Yes, even if you don't register, you're still eligible to submit the homeworks.\\nBe aware, however, that there will be deadlines for turning in the final projects. So don't leave everything for the last minute.\",\n",
    "  'section': 'General course-related questions',\n",
    "  'question': 'Course - Can I still join the course after the start date?',\n",
    "  'course': 'data-engineering-zoomcamp'},\n",
    " {'text': 'Yes, we will keep all the materials after the course finishes, so you can follow the course at your own pace after it finishes.\\nYou can also continue looking at the homeworks and continue preparing for the next cohort. I guess you can also start working on your final capstone project.',\n",
    "  'section': 'General course-related questions',\n",
    "  'question': 'Course - Can I follow the course after it finishes?',\n",
    "  'course': 'data-engineering-zoomcamp'},\n",
    " {'text': \"The purpose of this document is to capture frequently asked technical questions\\nThe exact day and hour of the course will be 15th Jan 2024 at 17h00. The course will start with the first  “Office Hours'' live.1\\nSubscribe to course public Google Calendar (it works from Desktop only).\\nRegister before the course starts using this link.\\nJoin the course Telegram channel with announcements.\\nDon’t forget to register in DataTalks.Club's Slack and join the channel.\",\n",
    "  'section': 'General course-related questions',\n",
    "  'question': 'Course - When will the course start?',\n",
    "  'course': 'data-engineering-zoomcamp'},\n",
    " {'text': 'You can start by installing and setting up all the dependencies and requirements:\\nGoogle cloud account\\nGoogle Cloud SDK\\nPython 3 (installed with Anaconda)\\nTerraform\\nGit\\nLook over the prerequisites and syllabus to see if you are comfortable with these subjects.',\n",
    "  'section': 'General course-related questions',\n",
    "  'question': 'Course - What can I do before the course starts?',\n",
    "  'course': 'data-engineering-zoomcamp'},\n",
    " {'text': 'Star the repo! Share it with friends if you find it useful ❣️\\nCreate a PR if you see you can improve the text or the structure of the repository.',\n",
    "  'section': 'General course-related questions',\n",
    "  'question': 'How can we contribute to the course?',\n",
    "  'course': 'data-engineering-zoomcamp'}]"
   ]
  },
  {
   "cell_type": "markdown",
   "id": "b6accb53",
   "metadata": {},
   "source": [
    "Compute the embeddings for the text field, and compute the cosine between the query vector and all the documents.\n",
    "\n",
    "What's the document index with the highest similarity? (Indexing starts from 0):\n",
    "\n",
    "0\n",
    "\n",
    "1\n",
    "\n",
    "2\n",
    "\n",
    "3\n",
    "\n",
    "4\n",
    "\n",
    "Hint: if you put all the embeddings of the text field in one matrix V (a single 2-dimensional numpy array), then computing the cosine becomes a matrix multiplication:\n",
    "\n",
    "V.dot(q)"
   ]
  },
  {
   "cell_type": "code",
   "execution_count": 47,
   "id": "8fd8c5f7",
   "metadata": {},
   "outputs": [
    {
     "data": {
      "text/plain": [
       "np.int64(1)"
      ]
     },
     "execution_count": 47,
     "metadata": {},
     "output_type": "execute_result"
    }
   ],
   "source": [
    "documents_to_embed = [document[\"text\"] for document in documents]\n",
    "embeddings3 = list(embedder.embed(documents_to_embed))\n",
    "embeddings3_matrix = np.asarray(embeddings3)\n",
    "np.argmax(embeddings3_matrix.dot(embedding))"
   ]
  },
  {
   "cell_type": "markdown",
   "id": "2c660730",
   "metadata": {},
   "source": [
    "Q4. Ranking by cosine, version two\n",
    "\n",
    "Now let's calculate a new field, which is a concatenation of question and text:\n",
    "\n",
    "full_text = doc['question'] + ' ' + doc['text']\n",
    "\n",
    "Embed this field and compute the cosine between it and the query vector. What's the highest scoring document?\n",
    "\n",
    "0\n",
    "\n",
    "1\n",
    "\n",
    "2\n",
    "\n",
    "3\n",
    "\n",
    "4\n",
    "\n",
    "Is it different from Q3? If yes, why?"
   ]
  },
  {
   "cell_type": "code",
   "execution_count": 48,
   "id": "71bd1998",
   "metadata": {},
   "outputs": [
    {
     "data": {
      "text/plain": [
       "np.int64(0)"
      ]
     },
     "execution_count": 48,
     "metadata": {},
     "output_type": "execute_result"
    }
   ],
   "source": [
    "documents_to_embed = [document['question'] + ' ' + document['text'] for document in documents]\n",
    "embeddings4 = list(embedder.embed(documents_to_embed))\n",
    "embeddings4_matrix = np.asarray(embeddings4)\n",
    "np.argmax(embeddings4_matrix.dot(embedding))"
   ]
  },
  {
   "cell_type": "markdown",
   "id": "e897b769",
   "metadata": {},
   "source": [
    "Q5. Selecting the embedding model\n",
    "\n",
    "Now let's select a smaller embedding model. What's the smallest dimensionality for models in fastembed?\n",
    "\n",
    "128\n",
    "\n",
    "256\n",
    "\n",
    "384\n",
    "\n",
    "512\n",
    "\n",
    "One of these models is BAAI/bge-small-en. Let's use it."
   ]
  },
  {
   "cell_type": "code",
   "execution_count": 49,
   "id": "c85146fb",
   "metadata": {},
   "outputs": [
    {
     "data": {
      "text/plain": [
       "384"
      ]
     },
     "execution_count": 49,
     "metadata": {},
     "output_type": "execute_result"
    }
   ],
   "source": [
    "dims = []\n",
    "for model in TextEmbedding.list_supported_models():\n",
    "    dims.append(model[\"dim\"])\n",
    "min(dims)"
   ]
  },
  {
   "cell_type": "code",
   "execution_count": 50,
   "id": "5db7313d",
   "metadata": {},
   "outputs": [],
   "source": [
    "model_handle = \"BAAI/bge-small-en\""
   ]
  },
  {
   "cell_type": "markdown",
   "id": "4f65b113",
   "metadata": {},
   "source": [
    "Q6. Indexing with qdrant (2 points)\n",
    "\n",
    "For the last question, we will use more documents.\n",
    "\n",
    "We will select only FAQ records from our ml zoomcamp."
   ]
  },
  {
   "cell_type": "code",
   "execution_count": 51,
   "id": "2f1d5ed5",
   "metadata": {},
   "outputs": [],
   "source": [
    "import requests \n",
    "\n",
    "docs_url = 'https://github.com/alexeygrigorev/llm-rag-workshop/raw/main/notebooks/documents.json'\n",
    "docs_response = requests.get(docs_url)\n",
    "documents_raw = docs_response.json()\n",
    "\n",
    "documents = []\n",
    "\n",
    "for course in documents_raw:\n",
    "    course_name = course['course']\n",
    "    if course_name != 'machine-learning-zoomcamp':\n",
    "        continue\n",
    "\n",
    "    for doc in course['documents']:\n",
    "        doc['course'] = course_name\n",
    "        documents.append(doc)"
   ]
  },
  {
   "cell_type": "markdown",
   "id": "e87d91e0",
   "metadata": {},
   "source": [
    "Add them to qdrant using the model form Q5.\n",
    "\n",
    "When adding the data, use both question and answer fields:\n",
    "\n",
    "text = doc['question'] + ' ' + doc['text']\n",
    "\n",
    "After the data is inserted, use the question from Q1 for querying the collection.\n",
    "\n",
    "What's the highest score in the results? (The score for the first returned record):\n",
    "\n",
    "0.97\n",
    "\n",
    "0.87\n",
    "\n",
    "0.77\n",
    "\n",
    "0.67"
   ]
  },
  {
   "cell_type": "code",
   "execution_count": 52,
   "id": "d64e5810",
   "metadata": {},
   "outputs": [],
   "source": [
    "from qdrant_client import QdrantClient, models\n",
    "\n",
    "client = QdrantClient(\"http://qdrant:6333\")  # connecting to local Qdrant instance"
   ]
  },
  {
   "cell_type": "code",
   "execution_count": 53,
   "id": "98515734",
   "metadata": {},
   "outputs": [],
   "source": [
    "EMBEDDING_DIMENSIONALITY = min(dims)"
   ]
  },
  {
   "cell_type": "code",
   "execution_count": 54,
   "id": "b4ade4d2",
   "metadata": {},
   "outputs": [
    {
     "data": {
      "text/plain": [
       "True"
      ]
     },
     "execution_count": 54,
     "metadata": {},
     "output_type": "execute_result"
    }
   ],
   "source": [
    "# Define the collection name\n",
    "collection_name = \"zoomcamp-hw2\"\n",
    "\n",
    "# Create the collection with specified vector parameters\n",
    "client.create_collection(\n",
    "    collection_name=collection_name,\n",
    "    vectors_config=models.VectorParams(\n",
    "        size=EMBEDDING_DIMENSIONALITY,  # Dimensionality of the vectors\n",
    "        distance=models.Distance.COSINE  # Distance metric for similarity search\n",
    "    )\n",
    ")"
   ]
  },
  {
   "cell_type": "code",
   "execution_count": 55,
   "id": "2441c8d7",
   "metadata": {},
   "outputs": [],
   "source": [
    "points = []\n",
    "id = 0\n",
    "\n",
    "for doc in documents:\n",
    "\n",
    "    point = models.PointStruct(\n",
    "        id=id,\n",
    "        vector=models.Document(text=doc['question'] + ' ' + doc['text'], model=model_handle),\n",
    "        payload={\n",
    "            \"text\": doc['text'],\n",
    "            \"section\": doc['section'],\n",
    "            \"course\": course['course']\n",
    "        }  # save all needed metadata fields\n",
    "    )\n",
    "    points.append(point)\n",
    "\n",
    "    id += 1"
   ]
  },
  {
   "cell_type": "code",
   "execution_count": 56,
   "id": "8870342a",
   "metadata": {},
   "outputs": [
    {
     "data": {
      "application/vnd.jupyter.widget-view+json": {
       "model_id": "97ca5d8d45b14b038d20de9398808621",
       "version_major": 2,
       "version_minor": 0
      },
      "text/plain": [
       "Fetching 5 files:   0%|          | 0/5 [00:00<?, ?it/s]"
      ]
     },
     "metadata": {},
     "output_type": "display_data"
    },
    {
     "data": {
      "application/vnd.jupyter.widget-view+json": {
       "model_id": "4d2d7299280642b1aa188e153585a23a",
       "version_major": 2,
       "version_minor": 0
      },
      "text/plain": [
       "special_tokens_map.json:   0%|          | 0.00/125 [00:00<?, ?B/s]"
      ]
     },
     "metadata": {},
     "output_type": "display_data"
    },
    {
     "data": {
      "application/vnd.jupyter.widget-view+json": {
       "model_id": "61c4a5c2fd6f468a8cd0423eafed7021",
       "version_major": 2,
       "version_minor": 0
      },
      "text/plain": [
       "tokenizer_config.json:   0%|          | 0.00/366 [00:00<?, ?B/s]"
      ]
     },
     "metadata": {},
     "output_type": "display_data"
    },
    {
     "data": {
      "application/vnd.jupyter.widget-view+json": {
       "model_id": "f4a6a741f0ab4a6a9512cb7fae7b4744",
       "version_major": 2,
       "version_minor": 0
      },
      "text/plain": [
       "tokenizer.json: 0.00B [00:00, ?B/s]"
      ]
     },
     "metadata": {},
     "output_type": "display_data"
    },
    {
     "data": {
      "application/vnd.jupyter.widget-view+json": {
       "model_id": "bc9e763b1bb34c54b125e34bbbfeeb22",
       "version_major": 2,
       "version_minor": 0
      },
      "text/plain": [
       "config.json:   0%|          | 0.00/701 [00:00<?, ?B/s]"
      ]
     },
     "metadata": {},
     "output_type": "display_data"
    },
    {
     "data": {
      "application/vnd.jupyter.widget-view+json": {
       "model_id": "68d53bd6df594320a927c048c2b1d1aa",
       "version_major": 2,
       "version_minor": 0
      },
      "text/plain": [
       "model_optimized.onnx:   0%|          | 0.00/133M [00:00<?, ?B/s]"
      ]
     },
     "metadata": {},
     "output_type": "display_data"
    },
    {
     "data": {
      "text/plain": [
       "UpdateResult(operation_id=0, status=<UpdateStatus.COMPLETED: 'completed'>)"
      ]
     },
     "execution_count": 56,
     "metadata": {},
     "output_type": "execute_result"
    }
   ],
   "source": [
    "client.upsert(\n",
    "    collection_name=collection_name,\n",
    "    points=points\n",
    ")"
   ]
  },
  {
   "cell_type": "code",
   "execution_count": 61,
   "id": "efa0e481",
   "metadata": {},
   "outputs": [],
   "source": [
    "def search(query, limit=1):\n",
    "\n",
    "    results = client.query_points(\n",
    "        collection_name=collection_name,\n",
    "        query=models.Document( #embed the query text locally with \"jinaai/jina-embeddings-v2-small-en\"\n",
    "            text=query,\n",
    "            model=model_handle \n",
    "        ),\n",
    "        limit=limit, # top closest matches\n",
    "        with_payload=True #to get metadata in the results\n",
    "    )\n",
    "\n",
    "    return results\n",
    "\n",
    "results = search(sentence)"
   ]
  },
  {
   "cell_type": "code",
   "execution_count": 69,
   "id": "3f413b8d",
   "metadata": {},
   "outputs": [
    {
     "data": {
      "text/plain": [
       "0.8703172"
      ]
     },
     "execution_count": 69,
     "metadata": {},
     "output_type": "execute_result"
    }
   ],
   "source": [
    "results.points[0].score"
   ]
  },
  {
   "cell_type": "code",
   "execution_count": null,
   "id": "c8eca9ca",
   "metadata": {},
   "outputs": [],
   "source": []
  }
 ],
 "metadata": {
  "kernelspec": {
   "display_name": "Python 3",
   "language": "python",
   "name": "python3"
  },
  "language_info": {
   "codemirror_mode": {
    "name": "ipython",
    "version": 3
   },
   "file_extension": ".py",
   "mimetype": "text/x-python",
   "name": "python",
   "nbconvert_exporter": "python",
   "pygments_lexer": "ipython3",
   "version": "3.10.12"
  }
 },
 "nbformat": 4,
 "nbformat_minor": 5
}
