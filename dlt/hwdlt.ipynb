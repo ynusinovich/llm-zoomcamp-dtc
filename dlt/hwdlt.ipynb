{
 "cells": [
  {
   "cell_type": "markdown",
   "id": "def70ff0",
   "metadata": {},
   "source": [
    "## Question 1. dlt Version\n",
    "\n",
    "In this homework, we will load the data from our FAQ to Qdrant\n",
    "\n",
    "Let's install dlt with Qdrant support and Qdrant client:\n",
    "\n",
    "```bash\n",
    "pip install -q \"dlt[qdrant]\" \"qdrant-client[fastembed]\"\n",
    "```\n",
    "\n",
    "What's the version of dlt that you installed?"
   ]
  },
  {
   "cell_type": "code",
   "execution_count": 3,
   "id": "7275df29",
   "metadata": {},
   "outputs": [
    {
     "name": "stdout",
     "output_type": "stream",
     "text": [
      "dlt version: 1.13.0\n"
     ]
    }
   ],
   "source": [
    "import importlib.metadata, requests, dlt\n",
    "\n",
    "print(\"dlt version:\", importlib.metadata.version(\"dlt\"))"
   ]
  },
  {
   "cell_type": "code",
   "execution_count": 4,
   "id": "efb62723",
   "metadata": {},
   "outputs": [],
   "source": [
    "@dlt.resource\n",
    "def zoomcamp_data():\n",
    "    docs_url = 'https://github.com/alexeygrigorev/llm-rag-workshop/raw/main/notebooks/documents.json'\n",
    "    docs_response = requests.get(docs_url)\n",
    "    documents_raw = docs_response.json()\n",
    "\n",
    "    for course in documents_raw:\n",
    "        course_name = course['course']\n",
    "\n",
    "        for doc in course['documents']:\n",
    "            doc['course'] = course_name\n",
    "            yield doc"
   ]
  },
  {
   "cell_type": "markdown",
   "id": "0303a2bb",
   "metadata": {},
   "source": [
    "## Question 2. dlt pipeline\n",
    "\n",
    "Now let's create a pipeline. \n",
    "\n",
    "We need to define a destination for that. Let's use the `qdrant` one:\n",
    "\n",
    "```python\n",
    "from dlt.destinations import qdrant\n",
    "\n",
    "qdrant_destination = qdrant(\n",
    "  qd_path=\"db.qdrant\", \n",
    ")\n",
    "```\n",
    "\n",
    "In this case, we tell dlt (and Qdrant) to create a folder with\n",
    "our data, and the name for it will be `db.qdrant`\n",
    "\n",
    "Let's run it:\n",
    "\n",
    "```python\n",
    "pipeline = dlt.pipeline(\n",
    "    pipeline_name=\"zoomcamp_pipeline\",\n",
    "    destination=qdrant_destination,\n",
    "    dataset_name=\"zoomcamp_tagged_data\"\n",
    "\n",
    ")\n",
    "load_info = pipeline.run(zoomcamp_data())\n",
    "print(pipeline.last_trace)\n",
    "```"
   ]
  },
  {
   "cell_type": "code",
   "execution_count": 5,
   "id": "68102eaa",
   "metadata": {},
   "outputs": [
    {
     "data": {
      "application/vnd.jupyter.widget-view+json": {
       "model_id": "f9b46a1fae9e45db9db6e83efb36fa36",
       "version_major": 2,
       "version_minor": 0
      },
      "text/plain": [
       "Fetching 5 files:   0%|          | 0/5 [00:00<?, ?it/s]"
      ]
     },
     "metadata": {},
     "output_type": "display_data"
    },
    {
     "data": {
      "application/vnd.jupyter.widget-view+json": {
       "model_id": "fc5601598f1d487d8ee1211f0eab0f9c",
       "version_major": 2,
       "version_minor": 0
      },
      "text/plain": [
       "special_tokens_map.json:   0%|          | 0.00/125 [00:00<?, ?B/s]"
      ]
     },
     "metadata": {},
     "output_type": "display_data"
    },
    {
     "data": {
      "application/vnd.jupyter.widget-view+json": {
       "model_id": "78291177ad684d35b03fb3537e040fef",
       "version_major": 2,
       "version_minor": 0
      },
      "text/plain": [
       "config.json:   0%|          | 0.00/701 [00:00<?, ?B/s]"
      ]
     },
     "metadata": {},
     "output_type": "display_data"
    },
    {
     "data": {
      "application/vnd.jupyter.widget-view+json": {
       "model_id": "f9fd093a908744e08d04f6d20e6ee603",
       "version_major": 2,
       "version_minor": 0
      },
      "text/plain": [
       "tokenizer_config.json:   0%|          | 0.00/366 [00:00<?, ?B/s]"
      ]
     },
     "metadata": {},
     "output_type": "display_data"
    },
    {
     "data": {
      "application/vnd.jupyter.widget-view+json": {
       "model_id": "1eec63ef6675434283d18de7f4e8077b",
       "version_major": 2,
       "version_minor": 0
      },
      "text/plain": [
       "tokenizer.json: 0.00B [00:00, ?B/s]"
      ]
     },
     "metadata": {},
     "output_type": "display_data"
    },
    {
     "data": {
      "application/vnd.jupyter.widget-view+json": {
       "model_id": "10ef7dd2591b41279c91134df58ab2e9",
       "version_major": 2,
       "version_minor": 0
      },
      "text/plain": [
       "model_optimized.onnx:   0%|          | 0.00/133M [00:00<?, ?B/s]"
      ]
     },
     "metadata": {},
     "output_type": "display_data"
    },
    {
     "name": "stdout",
     "output_type": "stream",
     "text": [
      "Run started at 2025-07-10 02:43:45.431794+00:00 and COMPLETED in 7.09 seconds with 4 steps.\n",
      "Step extract COMPLETED in 0.48 seconds.\n",
      "\n",
      "Load package 1752115429.1228757 is EXTRACTED and NOT YET LOADED to the destination and contains no failed jobs\n",
      "\n",
      "Step normalize COMPLETED in 0.03 seconds.\n",
      "Normalized data for the following tables:\n",
      "- zoomcamp_data: 948 row(s)\n",
      "- _dlt_pipeline_state: 1 row(s)\n",
      "\n",
      "Load package 1752115429.1228757 is NORMALIZED and NOT YET LOADED to the destination and contains no failed jobs\n",
      "\n",
      "Step load COMPLETED in 2.89 seconds.\n",
      "Pipeline zoomcamp_pipeline load step completed in 2.88 seconds\n",
      "1 load package(s) were loaded to destination qdrant and into dataset zoomcamp_tagged_data\n",
      "The qdrant destination used /app/cohorts/2025/workshops/dlt/db.qdrant location to store data\n",
      "Load package 1752115429.1228757 is LOADED and contains no failed jobs\n",
      "\n",
      "Step run COMPLETED in 7.09 seconds.\n",
      "Pipeline zoomcamp_pipeline load step completed in 2.88 seconds\n",
      "1 load package(s) were loaded to destination qdrant and into dataset zoomcamp_tagged_data\n",
      "The qdrant destination used /app/cohorts/2025/workshops/dlt/db.qdrant location to store data\n",
      "Load package 1752115429.1228757 is LOADED and contains no failed jobs\n"
     ]
    }
   ],
   "source": [
    "from dlt.destinations import qdrant\n",
    "\n",
    "qdrant_destination = qdrant(\n",
    "  qd_path=\"db.qdrant\", \n",
    ")\n",
    "\n",
    "pipeline = dlt.pipeline(\n",
    "    pipeline_name=\"zoomcamp_pipeline\",\n",
    "    destination=qdrant_destination,\n",
    "    dataset_name=\"zoomcamp_tagged_data\"\n",
    ")\n",
    "load_info = pipeline.run(zoomcamp_data())\n",
    "print(pipeline.last_trace)"
   ]
  },
  {
   "cell_type": "markdown",
   "id": "880c93b3",
   "metadata": {},
   "source": [
    "Normalized data for the following tables:\n",
    "- zoomcamp_data: 948 row(s)"
   ]
  },
  {
   "cell_type": "markdown",
   "id": "a595e7f0",
   "metadata": {},
   "source": [
    "## Question 3. Embeddings\n",
    "\n",
    "When inserting the data, an embedding model was used. Which one?\n",
    "\n",
    "You can find this out by inspecting the `meta.json` file created\n",
    "in the target folder. During the data insertion process, a folder named db.qdrant will be created, and the meta.json file will be located inside this folder."
   ]
  },
  {
   "cell_type": "code",
   "execution_count": 8,
   "id": "f3fd40a5",
   "metadata": {},
   "outputs": [
    {
     "name": "stdout",
     "output_type": "stream",
     "text": [
      "Contents of db.qdrant/meta.json:\n",
      "\n",
      "{\n",
      "  \"collections\": {\n",
      "    \"zoomcamp_tagged_data\": {\n",
      "      \"vectors\": {\n",
      "        \"fast-bge-small-en\": {\n",
      "          \"size\": 384,\n",
      "          \"distance\": \"Cosine\",\n",
      "          \"hnsw_config\": null,\n",
      "          \"quantization_config\": null,\n",
      "          \"on_disk\": null,\n",
      "          \"datatype\": null,\n",
      "          \"multivector_config\": null\n",
      "        }\n",
      "      },\n",
      "      \"shard_number\": null,\n",
      "      \"sharding_method\": null,\n",
      "      \"replication_factor\": null,\n",
      "      \"write_consistency_factor\": null,\n",
      "      \"on_disk_payload\": null,\n",
      "      \"hnsw_config\": null,\n",
      "      \"wal_config\": null,\n",
      "      \"optimizers_config\": null,\n",
      "      \"init_from\": null,\n",
      "      \"quantization_config\": null,\n",
      "      \"sparse_vectors\": null,\n",
      "      \"strict_mode_config\": null\n",
      "    },\n",
      "    \"zoomcamp_tagged_data__dlt_pipeline_state\": {\n",
      "      \"vectors\": {\n",
      "        \"fast-bge-small-en\": {\n",
      "          \"size\": 384,\n",
      "          \"distance\": \"Cosine\",\n",
      "          \"hnsw_config\": null,\n",
      "          \"quantization_config\": null,\n",
      "          \"on_disk\": null,\n",
      "          \"datatype\": null,\n",
      "          \"multivector_config\": null\n",
      "        }\n",
      "      },\n",
      "      \"shard_number\": null,\n",
      "      \"sharding_method\": null,\n",
      "      \"replication_factor\": null,\n",
      "      \"write_consistency_factor\": null,\n",
      "      \"on_disk_payload\": null,\n",
      "      \"hnsw_config\": null,\n",
      "      \"wal_config\": null,\n",
      "      \"optimizers_config\": null,\n",
      "      \"init_from\": null,\n",
      "      \"quantization_config\": null,\n",
      "      \"sparse_vectors\": null,\n",
      "      \"strict_mode_config\": null\n",
      "    },\n",
      "    \"zoomcamp_tagged_data__dlt_version\": {\n",
      "      \"vectors\": {\n",
      "        \"fast-bge-small-en\": {\n",
      "          \"size\": 384,\n",
      "          \"distance\": \"Cosine\",\n",
      "          \"hnsw_config\": null,\n",
      "          \"quantization_config\": null,\n",
      "          \"on_disk\": null,\n",
      "          \"datatype\": null,\n",
      "          \"multivector_config\": null\n",
      "        }\n",
      "      },\n",
      "      \"shard_number\": null,\n",
      "      \"sharding_method\": null,\n",
      "      \"replication_factor\": null,\n",
      "      \"write_consistency_factor\": null,\n",
      "      \"on_disk_payload\": null,\n",
      "      \"hnsw_config\": null,\n",
      "      \"wal_config\": null,\n",
      "      \"optimizers_config\": null,\n",
      "      \"init_from\": null,\n",
      "      \"quantization_config\": null,\n",
      "      \"sparse_vectors\": null,\n",
      "      \"strict_mode_config\": null\n",
      "    },\n",
      "    \"zoomcamp_tagged_data_zoomcamp_data\": {\n",
      "      \"vectors\": {\n",
      "        \"fast-bge-small-en\": {\n",
      "          \"size\": 384,\n",
      "          \"distance\": \"Cosine\",\n",
      "          \"hnsw_config\": null,\n",
      "          \"quantization_config\": null,\n",
      "          \"on_disk\": null,\n",
      "          \"datatype\": null,\n",
      "          \"multivector_config\": null\n",
      "        }\n",
      "      },\n",
      "      \"shard_number\": null,\n",
      "      \"sharding_method\": null,\n",
      "      \"replication_factor\": null,\n",
      "      \"write_consistency_factor\": null,\n",
      "      \"on_disk_payload\": null,\n",
      "      \"hnsw_config\": null,\n",
      "      \"wal_config\": null,\n",
      "      \"optimizers_config\": null,\n",
      "      \"init_from\": null,\n",
      "      \"quantization_config\": null,\n",
      "      \"sparse_vectors\": null,\n",
      "      \"strict_mode_config\": null\n",
      "    },\n",
      "    \"zoomcamp_tagged_data__dlt_loads\": {\n",
      "      \"vectors\": {\n",
      "        \"fast-bge-small-en\": {\n",
      "          \"size\": 384,\n",
      "          \"distance\": \"Cosine\",\n",
      "          \"hnsw_config\": null,\n",
      "          \"quantization_config\": null,\n",
      "          \"on_disk\": null,\n",
      "          \"datatype\": null,\n",
      "          \"multivector_config\": null\n",
      "        }\n",
      "      },\n",
      "      \"shard_number\": null,\n",
      "      \"sharding_method\": null,\n",
      "      \"replication_factor\": null,\n",
      "      \"write_consistency_factor\": null,\n",
      "      \"on_disk_payload\": null,\n",
      "      \"hnsw_config\": null,\n",
      "      \"wal_config\": null,\n",
      "      \"optimizers_config\": null,\n",
      "      \"init_from\": null,\n",
      "      \"quantization_config\": null,\n",
      "      \"sparse_vectors\": null,\n",
      "      \"strict_mode_config\": null\n",
      "    }\n",
      "  },\n",
      "  \"aliases\": {}\n",
      "}\n"
     ]
    }
   ],
   "source": [
    "from pathlib import Path\n",
    "import json\n",
    "\n",
    "# Path to meta.json\n",
    "meta_path = Path(\"db.qdrant/meta.json\")\n",
    "\n",
    "with meta_path.open() as f:\n",
    "    meta = json.load(f)\n",
    "\n",
    "print(\"Contents of db.qdrant/meta.json:\\n\")\n",
    "print(json.dumps(meta, indent=2))"
   ]
  },
  {
   "cell_type": "markdown",
   "id": "29654cdb",
   "metadata": {},
   "source": [
    "\"fast-bge-small-en\""
   ]
  },
  {
   "cell_type": "code",
   "execution_count": null,
   "id": "e230fbac",
   "metadata": {},
   "outputs": [],
   "source": []
  }
 ],
 "metadata": {
  "kernelspec": {
   "display_name": "Python 3",
   "language": "python",
   "name": "python3"
  },
  "language_info": {
   "codemirror_mode": {
    "name": "ipython",
    "version": 3
   },
   "file_extension": ".py",
   "mimetype": "text/x-python",
   "name": "python",
   "nbconvert_exporter": "python",
   "pygments_lexer": "ipython3",
   "version": "3.10.12"
  }
 },
 "nbformat": 4,
 "nbformat_minor": 5
}
