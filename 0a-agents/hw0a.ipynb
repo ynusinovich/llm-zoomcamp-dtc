{
 "cells": [
  {
   "cell_type": "markdown",
   "id": "8a22f03f",
   "metadata": {},
   "source": [
    "## Homework: Agents\n",
    "\n",
    "In this homework, we will learn more about function calling,\n",
    "and we will also explore MCP - model-context protocol. \n",
    "\n",
    "\n",
    "## Preparation\n",
    "\n",
    "First, we'll define a function that we will use when building\n",
    "our agent. \n",
    "\n",
    "It will generate fake weather data:"
   ]
  },
  {
   "cell_type": "code",
   "execution_count": 3,
   "id": "9de94d4e",
   "metadata": {},
   "outputs": [],
   "source": [
    "import random\n",
    "\n",
    "known_weather_data = {\n",
    "    'berlin': 20.0\n",
    "}\n",
    "\n",
    "def get_weather(city: str) -> float:\n",
    "    city = city.strip().lower()\n",
    "\n",
    "    if city in known_weather_data:\n",
    "        return known_weather_data[city]\n",
    "\n",
    "    return round(random.uniform(-5, 35), 1)"
   ]
  },
  {
   "cell_type": "markdown",
   "id": "62110e32",
   "metadata": {},
   "source": [
    "## Q1. Define function description\n",
    "\n",
    "We want to use it as a tool for our agent, so we need to \n",
    "describe it \n",
    "\n",
    "How should the description for this function look like? Fill in missing parts"
   ]
  },
  {
   "cell_type": "code",
   "execution_count": 5,
   "id": "37f45477",
   "metadata": {},
   "outputs": [],
   "source": [
    "get_weather_tool = {\n",
    "    \"type\": \"function\",\n",
    "    \"name\": \"get_weather\",\n",
    "    \"description\": \"Return the current temperature (°C) for the given city.\",\n",
    "    \"parameters\": {\n",
    "        \"type\": \"object\",\n",
    "        \"properties\": {\n",
    "            \"city\": {\n",
    "                \"type\": \"string\",\n",
    "                \"description\": \"Name of the city to look up, e.g. 'Berlin'.\"\n",
    "            }\n",
    "        },\n",
    "        \"required\": [\"city\"],\n",
    "        \"additionalProperties\": False\n",
    "    }\n",
    "}"
   ]
  },
  {
   "cell_type": "markdown",
   "id": "696ef808",
   "metadata": {},
   "source": [
    "What did you put in TODO3?\n",
    "\n",
    "city"
   ]
  },
  {
   "cell_type": "markdown",
   "id": "d3df0b17",
   "metadata": {},
   "source": [
    "## Testing it (Optional)\n",
    "\n",
    "If you have OpenAI API Key (or alternative provider),\n",
    "let's test it.\n",
    "\n",
    "A question could be \"What's the weather like in Germany?\"\n",
    "\n",
    "Experiment with different system prompts to have better answers\n",
    "from the system.\n",
    "\n",
    "You can use [chat_assistant.py](https://github.com/alexeygrigorev/rag-agents-workshop/blob/main/chat_assistant.py)\n",
    "or implement everything yourself \n",
    "\n",
    "```bash\n",
    "wget https://raw.githubusercontent.com/alexeygrigorev/rag-agents-workshop/refs/heads/main/chat_assistant.py\n",
    "```"
   ]
  },
  {
   "cell_type": "code",
   "execution_count": 23,
   "id": "1d1aa1e3",
   "metadata": {},
   "outputs": [],
   "source": [
    "from openai import OpenAI\n",
    "from chat_assistant import Tools, ChatInterface, ChatAssistant"
   ]
  },
  {
   "cell_type": "code",
   "execution_count": 6,
   "id": "2444fcb5",
   "metadata": {},
   "outputs": [
    {
     "data": {
      "text/html": [
       "\n",
       "            <details>\n",
       "            <summary>Function call: <tt>get_weather({\"city\":\"Cologne\"})</tt></summary>\n",
       "            <div>\n",
       "                <b>Call</b>\n",
       "                <pre>ResponseFunctionToolCall(arguments='{\"city\":\"Cologne\"}', call_id='call_biWmm7cFe0DRLU0qrMX3PTjh', name='get_weather', type='function_call', id='fc_68708d212d7c81a1ba122499df22faf6034ff3b04a8995d2', status='completed')</pre>\n",
       "            </div>\n",
       "            <div>\n",
       "                <b>Output</b>\n",
       "                <pre>30.1</pre>\n",
       "            </div>\n",
       "            \n",
       "            </details>\n",
       "        "
      ],
      "text/plain": [
       "<IPython.core.display.HTML object>"
      ]
     },
     "metadata": {},
     "output_type": "display_data"
    },
    {
     "data": {
      "text/html": [
       "\n",
       "            <div>\n",
       "                <div><b>Assistant:</b></div>\n",
       "                <div><p>The current temperature in Cologne is 30.1°C.</p></div>\n",
       "            </div>\n",
       "        "
      ],
      "text/plain": [
       "<IPython.core.display.HTML object>"
      ]
     },
     "metadata": {},
     "output_type": "display_data"
    },
    {
     "data": {
      "text/html": [
       "\n",
       "            <div>\n",
       "                <div><b>Assistant:</b></div>\n",
       "                <div><p>The average summer temperature in Cologne typically ranges from about 20°C to 25°C (68°F to 77°F). However, temperatures can occasionally rise higher during heatwaves.</p></div>\n",
       "            </div>\n",
       "        "
      ],
      "text/plain": [
       "<IPython.core.display.HTML object>"
      ]
     },
     "metadata": {},
     "output_type": "display_data"
    },
    {
     "name": "stdout",
     "output_type": "stream",
     "text": [
      "Chat ended.\n"
     ]
    }
   ],
   "source": [
    "toolbox = Tools()\n",
    "toolbox.add_tool(get_weather, get_weather_tool)\n",
    "client = OpenAI()\n",
    "\n",
    "DEV_PROMPT = (\n",
    "   \"You are a helpful weather assistant. \"\n",
    "   \"When unsure, call get_weather to look up the temperature.\"\n",
    ")\n",
    "\n",
    "chat_ui = ChatInterface()\n",
    "agent = ChatAssistant(toolbox, DEV_PROMPT, chat_ui, client)\n",
    "\n",
    "agent.run()"
   ]
  },
  {
   "cell_type": "markdown",
   "id": "96bf69a7",
   "metadata": {},
   "source": [
    "## Q2. Adding another tool\n",
    "\n",
    "Let's add another tool - a function that can add weather data\n",
    "to our database:\n",
    "\n",
    "```python\n",
    "def set_weather(city: str, temp: float) -> None:\n",
    "    city = city.strip().lower()\n",
    "    known_weather_data[city] = temp\n",
    "    return 'OK'\n",
    "```\n",
    "\n",
    "Now let's write a description for it.\n",
    "\n",
    "What did you write?\n",
    "\n",
    "Optionally, you can test it after adding this function."
   ]
  },
  {
   "cell_type": "code",
   "execution_count": 7,
   "id": "9e077f0f",
   "metadata": {},
   "outputs": [],
   "source": [
    "def set_weather(city: str, temp: float) -> None:\n",
    "    city = city.strip().lower()\n",
    "    known_weather_data[city] = temp\n",
    "    return 'OK'"
   ]
  },
  {
   "cell_type": "code",
   "execution_count": 8,
   "id": "8827dab2",
   "metadata": {},
   "outputs": [],
   "source": [
    "set_weather_tool = {\n",
    "    \"type\": \"function\",\n",
    "    \"name\": \"set_weather\",\n",
    "    \"description\": (\n",
    "        \"Store the current temperature (in °C) for the specified city. \"\n",
    "        \"If the city is already present, overwrite its value.\"\n",
    "    ),\n",
    "    \"parameters\": {\n",
    "        \"type\": \"object\",\n",
    "        \"properties\": {\n",
    "            \"city\": {\n",
    "                \"type\": \"string\",\n",
    "                \"description\": \"City name, e.g. 'Berlin'\"\n",
    "            },\n",
    "            \"temp\": {\n",
    "                \"type\": \"number\",\n",
    "                \"description\": \"Temperature in Celsius, e.g. 21.5\"\n",
    "            }\n",
    "        },\n",
    "        \"required\": [\"city\", \"temp\"],\n",
    "        \"additionalProperties\": False\n",
    "    }\n",
    "}"
   ]
  },
  {
   "cell_type": "code",
   "execution_count": 13,
   "id": "a8288d58",
   "metadata": {},
   "outputs": [],
   "source": [
    "toolbox.add_tool(set_weather, set_weather_tool)"
   ]
  },
  {
   "cell_type": "code",
   "execution_count": 14,
   "id": "596fca17",
   "metadata": {},
   "outputs": [
    {
     "data": {
      "text/plain": [
       "[{'type': 'function',\n",
       "  'name': 'get_weather',\n",
       "  'description': 'Return the current temperature (°C) for the given city.',\n",
       "  'parameters': {'type': 'object',\n",
       "   'properties': {'city': {'type': 'string',\n",
       "     'description': \"Name of the city to look up, e.g. 'Berlin'.\"}},\n",
       "   'required': ['city'],\n",
       "   'additionalProperties': False}},\n",
       " {'type': 'function',\n",
       "  'name': 'set_weather',\n",
       "  'description': 'Store the current temperature (in °C) for the specified city. If the city is already present, overwrite its value.',\n",
       "  'parameters': {'type': 'object',\n",
       "   'properties': {'city': {'type': 'string',\n",
       "     'description': \"City name, e.g. 'Berlin'\"},\n",
       "    'temp': {'type': 'number',\n",
       "     'description': 'Temperature in Celsius, e.g. 21.5'}},\n",
       "   'required': ['city', 'temp'],\n",
       "   'additionalProperties': False}}]"
      ]
     },
     "execution_count": 14,
     "metadata": {},
     "output_type": "execute_result"
    }
   ],
   "source": [
    "toolbox.get_tools()"
   ]
  },
  {
   "cell_type": "code",
   "execution_count": 15,
   "id": "72d01b8d",
   "metadata": {},
   "outputs": [
    {
     "data": {
      "text/html": [
       "\n",
       "            <details>\n",
       "            <summary>Function call: <tt>set_weather({\"city\":\"New York\",\"temp\":28})</tt></summary>\n",
       "            <div>\n",
       "                <b>Call</b>\n",
       "                <pre>ResponseFunctionToolCall(arguments='{\"city\":\"New York\",\"temp\":28}', call_id='call_3FyGPAnVOIazFGieNEr2Pi1b', name='set_weather', type='function_call', id='fc_68708fa4fd70819fbe37b9b286f01da2054e241e3397e625', status='completed')</pre>\n",
       "            </div>\n",
       "            <div>\n",
       "                <b>Output</b>\n",
       "                <pre>\"OK\"</pre>\n",
       "            </div>\n",
       "            \n",
       "            </details>\n",
       "        "
      ],
      "text/plain": [
       "<IPython.core.display.HTML object>"
      ]
     },
     "metadata": {},
     "output_type": "display_data"
    },
    {
     "data": {
      "text/html": [
       "\n",
       "            <div>\n",
       "                <div><b>Assistant:</b></div>\n",
       "                <div><p>I've updated the temperature for New York to 28°C.</p></div>\n",
       "            </div>\n",
       "        "
      ],
      "text/plain": [
       "<IPython.core.display.HTML object>"
      ]
     },
     "metadata": {},
     "output_type": "display_data"
    },
    {
     "data": {
      "text/html": [
       "\n",
       "            <details>\n",
       "            <summary>Function call: <tt>get_weather({\"city\":\"New York\"})</tt></summary>\n",
       "            <div>\n",
       "                <b>Call</b>\n",
       "                <pre>ResponseFunctionToolCall(arguments='{\"city\":\"New York\"}', call_id='call_o35Phf1Z5N7vjxgF8wbyenei', name='get_weather', type='function_call', id='fc_68708fb1b9a8819f8a508e3bc0ebda35054e241e3397e625', status='completed')</pre>\n",
       "            </div>\n",
       "            <div>\n",
       "                <b>Output</b>\n",
       "                <pre>28</pre>\n",
       "            </div>\n",
       "            \n",
       "            </details>\n",
       "        "
      ],
      "text/plain": [
       "<IPython.core.display.HTML object>"
      ]
     },
     "metadata": {},
     "output_type": "display_data"
    },
    {
     "data": {
      "text/html": [
       "\n",
       "            <div>\n",
       "                <div><b>Assistant:</b></div>\n",
       "                <div><p>The current temperature in New York is 28°C.</p></div>\n",
       "            </div>\n",
       "        "
      ],
      "text/plain": [
       "<IPython.core.display.HTML object>"
      ]
     },
     "metadata": {},
     "output_type": "display_data"
    },
    {
     "name": "stdout",
     "output_type": "stream",
     "text": [
      "Chat ended.\n"
     ]
    }
   ],
   "source": [
    "DEV_PROMPT = (\n",
    "    \"You are a helpful weather assistant. \"\n",
    "    \"Use `get_weather` to read the current temperature for a city. \"\n",
    "    \"Use `set_weather` when the user wants to update or add data. \"\n",
    "    \"Do not hallucinate numbers. Always call the appropriate tool.\"\n",
    ")\n",
    "\n",
    "chat_ui = ChatInterface()\n",
    "client  = OpenAI()\n",
    "agent   = ChatAssistant(toolbox, DEV_PROMPT, chat_ui, client)\n",
    "\n",
    "agent.run()"
   ]
  },
  {
   "cell_type": "markdown",
   "id": "f626b0df",
   "metadata": {},
   "source": [
    "## MCP\n",
    "\n",
    "MCP stands for Model-Context Protocol. It allows LLMs communicate\n",
    "with different tools (like Qdrant). It's function calling, but \n",
    "one step further:\n",
    "\n",
    "* A tool can export a list of functions it has\n",
    "* When we include the tool to our Agent, we just need to include the link to the MCP server\n",
    "\n",
    "## Q3. Install FastMCP\n",
    "\n",
    "Let's install a library for MCP - [FastMCP](https://github.com/jlowin/fastmcp):\n",
    "\n",
    "```bash\n",
    "pip install fastmcp\n",
    "```\n",
    "\n",
    "What's the version of FastMCP you installed?"
   ]
  },
  {
   "cell_type": "markdown",
   "id": "cdf82ebb",
   "metadata": {},
   "source": [
    "fastmcp = \"^2.10.4\""
   ]
  },
  {
   "cell_type": "markdown",
   "id": "e0887c60",
   "metadata": {},
   "source": [
    "## Q4. Simple MCP Server \n",
    "\n",
    "A simple MCP server from the documentation looks like that:\n",
    "\n",
    "```python\n",
    "# weather_server.py\n",
    "from fastmcp import FastMCP\n",
    "\n",
    "mcp = FastMCP(\"Demo 🚀\")\n",
    "\n",
    "@mcp.tool\n",
    "def add(a: int, b: int) -> int:\n",
    "    \"\"\"Add two numbers\"\"\"\n",
    "    return a + b\n",
    "\n",
    "if __name__ == \"__main__\":\n",
    "    mcp.run()\n",
    "```\n",
    "\n",
    "In our case, we need to write docstrings for our functions.\n",
    "\n",
    "Let's ask ChatGPT for help:\n",
    "\n",
    "```python\n",
    "def get_weather(city: str) -> float:\n",
    "    \"\"\"\n",
    "    Retrieves the temperature for a specified city.\n",
    "\n",
    "    Parameters:\n",
    "        city (str): The name of the city for which to retrieve weather data.\n",
    "\n",
    "    Returns:\n",
    "        float: The temperature associated with the city.\n",
    "    \"\"\"\n",
    "    city = city.strip().lower()\n",
    "\n",
    "    if city in known_weather_data:\n",
    "        return known_weather_data[city]\n",
    "\n",
    "    return round(random.uniform(-5, 35), 1)\n",
    "\n",
    "\n",
    "def set_weather(city: str, temp: float) -> None:\n",
    "    \"\"\"\n",
    "    Sets the temperature for a specified city.\n",
    "\n",
    "    Parameters:\n",
    "        city (str): The name of the city for which to set the weather data.\n",
    "        temp (float): The temperature to associate with the city.\n",
    "\n",
    "    Returns:\n",
    "        str: A confirmation string 'OK' indicating successful update.\n",
    "    \"\"\"\n",
    "    city = city.strip().lower()\n",
    "    known_weather_data[city] = temp\n",
    "    return 'OK'\n",
    "```\n",
    "\n",
    "Let's change the example for our case and run it\n",
    "\n",
    "What do you see in the output?\n",
    "\n",
    "Look for a string that matches this template:\n",
    "\n",
    "```\n",
    "Starting MCP server 'Demo 🚀' with transport '<TODO>'\n",
    "```\n",
    "\n",
    "What do you have instead of `<TODO>`?"
   ]
  },
  {
   "cell_type": "markdown",
   "id": "0673b596",
   "metadata": {},
   "source": [
    "[07/11/25 04:40:45] INFO     Starting MCP server 'Demo 🚀' with   server.py:1352\n",
    "                             transport 'stdio'   "
   ]
  },
  {
   "cell_type": "markdown",
   "id": "8237e60f",
   "metadata": {},
   "source": [
    "## Q5. Protocol\n",
    "\n",
    "There are different ways to communicate with an MCP server.\n",
    "Ours is currently running using standart input/output, which\n",
    "means that the client write something to stdin and read the\n",
    "answer using stdout.\n",
    "\n",
    "Our weather server is currently running.\n",
    "\n",
    "This is how we start communitcating with it:\n",
    "\n",
    "- First, we send an initialization request -- this way, we register our client with the server:\n",
    "    ```json\n",
    "    {\"jsonrpc\": \"2.0\", \"id\": 1, \"method\": \"initialize\", \"params\": {\"protocolVersion\": \"2024-11-05\", \"capabilities\": {\"roots\": {\"listChanged\": true}, \"sampling\": {}}, \"clientInfo\": {\"name\": \"test-client\", \"version\": \"1.0.0\"}}}\n",
    "    ```\n",
    "    We should get back something like that, which is an aknowledgement of the request:\n",
    "    ```json\n",
    "    {\"jsonrpc\":\"2.0\",\"id\":1,\"result\":{\"protocolVersion\":\"2024-11-05\",\"capabilities\":{\"experimental\":{},\"prompts\":{\"listChanged\":false},\"resources\":{\"subscribe\":false,\"listChanged\":false},\"tools\":{\"listChanged\":true}},\"serverInfo\":{\"name\":\"Demo 🚀\",\"version\":\"1.9.4\"}}}\n",
    "    ```\n",
    "-  Next, we reply back, confirming the initialization:\n",
    "    ```json\n",
    "    {\"jsonrpc\": \"2.0\", \"method\": \"notifications/initialized\"}\n",
    "    ```\n",
    "    We don't expect to get anything in response\n",
    "- Now we can ask for a list of available methods:\n",
    "    ```json\n",
    "    {\"jsonrpc\": \"2.0\", \"id\": 2, \"method\": \"tools/list\"}\n",
    "    ```\n",
    "- Let's ask the temperature in Berlin:\n",
    "    ```json\n",
    "    {\"jsonrpc\": \"2.0\", \"id\": 3, \"method\": \"tools/call\", \"params\": {\"name\": \"<TODO>\", \"arguments\": {<TODO>}}}\n",
    "    ```\n",
    "- What did you get in response?"
   ]
  },
  {
   "cell_type": "markdown",
   "id": "7a996b0e",
   "metadata": {},
   "source": [
    "{\"jsonrpc\": \"2.0\", \"id\": 3, \"method\": \"tools/call\", \"params\": {\"name\": \"get_weather\", \"arguments\": {\"city\": \"Berlin\"}}}"
   ]
  },
  {
   "cell_type": "markdown",
   "id": "6f75e31d",
   "metadata": {},
   "source": [
    "{\"jsonrpc\":\"2.0\",\"id\":3,\"result\":{\"content\":[{\"type\":\"text\",\"text\":\"20.0\"}],\"structuredContent\":{\"result\":20.0},\"isError\":false}}"
   ]
  },
  {
   "cell_type": "markdown",
   "id": "102a895c",
   "metadata": {},
   "source": [
    "## Q6. Client\n",
    "\n",
    "We typically don't interact with the server by copy-pasting \n",
    "commands in the terminal.\n",
    "\n",
    "In practice, we use an MCP Client. Let's implement it. \n",
    "\n",
    "FastMCP also supports MCP clients:\n",
    "\n",
    "```python\n",
    "from fastmcp import Client\n",
    "\n",
    "async def main():\n",
    "    async with Client(<TODO>) as mcp_client:\n",
    "        # TODO\n",
    "```\n",
    "\n",
    "Use the client to get the list of available tools\n",
    "of our script. How does the result look like?\n",
    "\n",
    "If you're running this code in Jupyter, you need to pass\n",
    "an instance of MCP server to the `Client`:\n",
    "\n",
    "```python\n",
    "import weather_server\n",
    "\n",
    "async def main():\n",
    "    async with Client(weather_server.mcp) as mcp_client:\n",
    "        # ....\n",
    "```\n",
    "\n",
    "If you run it in a script, you will need to use asyncio:\n",
    "\n",
    "```python\n",
    "import asyncio\n",
    "\n",
    "async def main():\n",
    "    async with Client(\"weather_server.py\") as mcp_client:\n",
    "        # ...\n",
    "\n",
    "if __name__ == \"__main__\":\n",
    "    test = asyncio.run(main())\n",
    "```\n",
    "\n",
    "Copy the output with the available tools when\n",
    "filling in the homework form."
   ]
  },
  {
   "cell_type": "code",
   "execution_count": null,
   "id": "79382678",
   "metadata": {},
   "outputs": [
    {
     "name": "stdout",
     "output_type": "stream",
     "text": [
      "Available tools: [Tool(name='get_weather', title=None, description='Retrieves the temperature for a specified city.\\n\\nParameters:\\n    city (str): The name of the city for which to retrieve weather data.\\n\\nReturns:\\n    float: The temperature associated with the city.', inputSchema={'properties': {'city': {'title': 'City', 'type': 'string'}}, 'required': ['city'], 'type': 'object'}, outputSchema={'properties': {'result': {'title': 'Result', 'type': 'number'}}, 'required': ['result'], 'title': '_WrappedResult', 'type': 'object', 'x-fastmcp-wrap-result': True}, annotations=None, meta=None), Tool(name='set_weather', title=None, description=\"Sets the temperature for a specified city.\\n\\nParameters:\\n    city (str): The name of the city for which to set the weather data.\\n    temp (float): The temperature to associate with the city.\\n\\nReturns:\\n    str: A confirmation string 'OK' indicating successful update.\", inputSchema={'properties': {'city': {'title': 'City', 'type': 'string'}, 'temp': {'title': 'Temp', 'type': 'number'}}, 'required': ['city', 'temp'], 'type': 'object'}, outputSchema=None, annotations=None, meta=None)]\n",
      "\n",
      "[\n",
      "  {\n",
      "    \"name\": \"get_weather\",\n",
      "    \"title\": null,\n",
      "    \"description\": \"Retrieves the temperature for a specified city.\\n\\nParameters:\\n    city (str): The name of the city for which to retrieve weather data.\\n\\nReturns:\\n    float: The temperature associated with the city.\",\n",
      "    \"inputSchema\": {\n",
      "      \"properties\": {\n",
      "        \"city\": {\n",
      "          \"title\": \"City\",\n",
      "          \"type\": \"string\"\n",
      "        }\n",
      "      },\n",
      "      \"required\": [\n",
      "        \"city\"\n",
      "      ],\n",
      "      \"type\": \"object\"\n",
      "    },\n",
      "    \"outputSchema\": {\n",
      "      \"properties\": {\n",
      "        \"result\": {\n",
      "          \"title\": \"Result\",\n",
      "          \"type\": \"number\"\n",
      "        }\n",
      "      },\n",
      "      \"required\": [\n",
      "        \"result\"\n",
      "      ],\n",
      "      \"title\": \"_WrappedResult\",\n",
      "      \"type\": \"object\",\n",
      "      \"x-fastmcp-wrap-result\": true\n",
      "    },\n",
      "    \"annotations\": null,\n",
      "    \"meta\": null\n",
      "  },\n",
      "  {\n",
      "    \"name\": \"set_weather\",\n",
      "    \"title\": null,\n",
      "    \"description\": \"Sets the temperature for a specified city.\\n\\nParameters:\\n    city (str): The name of the city for which to set the weather data.\\n    temp (float): The temperature to associate with the city.\\n\\nReturns:\\n    str: A confirmation string 'OK' indicating successful update.\",\n",
      "    \"inputSchema\": {\n",
      "      \"properties\": {\n",
      "        \"city\": {\n",
      "          \"title\": \"City\",\n",
      "          \"type\": \"string\"\n",
      "        },\n",
      "        \"temp\": {\n",
      "          \"title\": \"Temp\",\n",
      "          \"type\": \"number\"\n",
      "        }\n",
      "      },\n",
      "      \"required\": [\n",
      "        \"city\",\n",
      "        \"temp\"\n",
      "      ],\n",
      "      \"type\": \"object\"\n",
      "    },\n",
      "    \"outputSchema\": null,\n",
      "    \"annotations\": null,\n",
      "    \"meta\": null\n",
      "  }\n",
      "]\n"
     ]
    }
   ],
   "source": [
    "import json\n",
    "import weather_server\n",
    "from fastmcp import Client\n",
    "\n",
    "async def main():\n",
    "    async with Client(weather_server.mcp) as mcp_client:\n",
    "        tools = await mcp_client.list_tools()\n",
    "        print(f\"Available tools: {tools}\\n\")\n",
    "        tools_as_dicts = [tool.model_dump() for tool in tools]\n",
    "        print(json.dumps(tools_as_dicts, indent=2))\n",
    "\n",
    "await main()"
   ]
  },
  {
   "cell_type": "markdown",
   "id": "819c0804",
   "metadata": {},
   "source": [
    "## Using tools from the MCP server (optional)\n",
    "\n",
    "FastMCP uses asyncio for client-server communication. In our\n",
    "case, the code we wrote previously in the module\n",
    "(chat_assistant.py) is not asyncio-friendly, so it will\n",
    "require a lot of adjustments to run it. \n",
    "\n",
    "Which is why we asked Claude to implement a simple\n",
    "non-async MCP client (see [mcp_client.py](mcp_client.py))\n",
    "that can only do this:\n",
    "\n",
    "- List tools\n",
    "- Invoke the specified tool\n",
    "\n",
    "Note: this is not a production-ready MCP Client! Use it\n",
    "only for learning purposes.\n",
    "\n",
    "Check the code - it's quite illustrative. Or experiment\n",
    "with writing this code yourself.\n",
    "\n",
    "Here's how we can use it:\n",
    "\n",
    "```python\n",
    "import mcp_client\n",
    "\n",
    "our_mcp_client = mcp_client.MCPClient([\"python\", \"weather_server.py\"])\n",
    "\n",
    "our_mcp_client.start_server()\n",
    "our_mcp_client.initialize()\n",
    "our_mcp_client.initialized()\n",
    "```\n",
    "\n",
    "While it's somewhat verbose, it follows\n",
    "the initialization structure we outlined in Q5.\n",
    "\n",
    "Now we can use it:\n",
    "\n",
    "```python\n",
    "our_mcp_client.get_tools()\n",
    "our_mcp_client.call_tool('get_weather', {'city': 'Berlin'})\n",
    "```\n",
    "\n",
    "In order to include it in our existing application, we need\n",
    "a wrapper class:\n",
    "\n",
    "```python\n",
    "import json\n",
    "\n",
    "class MCPTools:\n",
    "    def __init__(self, mcp_client):\n",
    "        self.mcp_client = mcp_client\n",
    "        self.tools = None\n",
    "    \n",
    "    def get_tools(self):\n",
    "        if self.tools is None:\n",
    "            mcp_tools = self.mcp_client.get_tools()\n",
    "            self.tools = convert_tools_list(mcp_tools)\n",
    "        return self.tools\n",
    "\n",
    "    def function_call(self, tool_call_response):\n",
    "        function_name = tool_call_response.name\n",
    "        arguments = json.loads(tool_call_response.arguments)\n",
    "\n",
    "        result = self.mcp_client.call_tool(function_name, arguments)\n",
    "\n",
    "        return {\n",
    "            \"type\": \"function_call_output\",\n",
    "            \"call_id\": tool_call_response.call_id,\n",
    "            \"output\": json.dumps(result, indent=2),\n",
    "        }\n",
    "```\n",
    "\n",
    "It's very similar to the `Tools` class we created in the\n",
    "module, but it uses MCP to communicate with the MCP Server.\n",
    "\n",
    "(Where `convert_tools_list` converts MCP functions description\n",
    "format into the OpenAI's one)\n",
    "\n",
    "Let's use it:\n",
    "\n",
    "```python\n",
    "our_mcp_client = mcp_client.MCPClient([\"python\", \"weather_server.py\"])\n",
    "\n",
    "our_mcp_client.start_server()\n",
    "our_mcp_client.initialize()\n",
    "our_mcp_client.initialized()\n",
    "\n",
    "mcp_tools = mcp_client.MCPTools(mcp_client=our_mcp_client)\n",
    "\n",
    "\n",
    "developer_prompt = \"\"\"\n",
    "You help users find out the weather in their cities. \n",
    "If they didn't specify a city, ask them. Make sure we always use a city.\n",
    "\"\"\".strip()\n",
    "\n",
    "chat_interface = chat_assistant.ChatInterface()\n",
    "\n",
    "chat = chat_assistant.ChatAssistant(\n",
    "    tools=mcp_tools,\n",
    "    developer_prompt=developer_prompt,\n",
    "    chat_interface=chat_interface,\n",
    "    client=client\n",
    ")\n",
    "\n",
    "chat.run()\n",
    "```\n",
    "\n",
    "Now we use the MCP server for function calling!"
   ]
  },
  {
   "cell_type": "code",
   "execution_count": 22,
   "id": "9b5f93a1",
   "metadata": {},
   "outputs": [
    {
     "name": "stdout",
     "output_type": "stream",
     "text": [
      "Started server with command: python weather_server.py\n",
      "Sending initialize request...\n",
      "Initialize response: {'protocolVersion': '2024-11-05', 'capabilities': {'experimental': {}, 'prompts': {'listChanged': False}, 'resources': {'subscribe': False, 'listChanged': False}, 'tools': {'listChanged': True}}, 'serverInfo': {'name': 'Demo 🚀', 'version': '1.11.0'}}\n",
      "Sending initialized notification...\n",
      "Handshake completed successfully\n",
      "Retrieving available tools...\n",
      "Available tools: ['get_weather', 'set_weather']\n",
      "Calling tool 'get_weather' with arguments: {'city': 'Berlin'}\n"
     ]
    },
    {
     "data": {
      "text/plain": [
       "{'content': [{'type': 'text', 'text': '20.0'}],\n",
       " 'structuredContent': {'result': 20.0},\n",
       " 'isError': False}"
      ]
     },
     "execution_count": 22,
     "metadata": {},
     "output_type": "execute_result"
    }
   ],
   "source": [
    "import mcp_client\n",
    "\n",
    "our_mcp_client = mcp_client.MCPClient([\"python\", \"weather_server.py\"])\n",
    "\n",
    "our_mcp_client.start_server()\n",
    "our_mcp_client.initialize()\n",
    "our_mcp_client.initialized()\n",
    "\n",
    "our_mcp_client.get_tools()\n",
    "our_mcp_client.call_tool('get_weather', {'city': 'Berlin'})"
   ]
  },
  {
   "cell_type": "code",
   "execution_count": 27,
   "id": "9cf551e5",
   "metadata": {},
   "outputs": [
    {
     "name": "stdout",
     "output_type": "stream",
     "text": [
      "Started server with command: python weather_server.py\n",
      "Sending initialize request...\n",
      "Initialize response: {'protocolVersion': '2024-11-05', 'capabilities': {'experimental': {}, 'prompts': {'listChanged': False}, 'resources': {'subscribe': False, 'listChanged': False}, 'tools': {'listChanged': True}}, 'serverInfo': {'name': 'Demo 🚀', 'version': '1.11.0'}}\n",
      "Sending initialized notification...\n",
      "Handshake completed successfully\n",
      "Retrieving available tools...\n",
      "Available tools: ['get_weather', 'set_weather']\n",
      "Calling tool 'get_weather' with arguments: {'city': 'Berlin'}\n"
     ]
    },
    {
     "data": {
      "text/html": [
       "\n",
       "            <details>\n",
       "            <summary>Function call: <tt>get_weather({\"city\":\"Berlin\"})</tt></summary>\n",
       "            <div>\n",
       "                <b>Call</b>\n",
       "                <pre>ResponseFunctionToolCall(arguments='{\"city\":\"Berlin\"}', call_id='call_mcxbolP2DXvzCTtKbhRg3f4Q', name='get_weather', type='function_call', id='fc_6870a114c284819c9c58cf1af82bbee006a499f6bd3d6918', status='completed')</pre>\n",
       "            </div>\n",
       "            <div>\n",
       "                <b>Output</b>\n",
       "                <pre>{\n",
       "  \"content\": [\n",
       "    {\n",
       "      \"type\": \"text\",\n",
       "      \"text\": \"20.0\"\n",
       "    }\n",
       "  ],\n",
       "  \"structuredContent\": {\n",
       "    \"result\": 20.0\n",
       "  },\n",
       "  \"isError\": false\n",
       "}</pre>\n",
       "            </div>\n",
       "            \n",
       "            </details>\n",
       "        "
      ],
      "text/plain": [
       "<IPython.core.display.HTML object>"
      ]
     },
     "metadata": {},
     "output_type": "display_data"
    },
    {
     "data": {
      "text/html": [
       "\n",
       "            <div>\n",
       "                <div><b>Assistant:</b></div>\n",
       "                <div><p>The current temperature in Berlin is 20°C. If you need more details or information, just let me know!</p></div>\n",
       "            </div>\n",
       "        "
      ],
      "text/plain": [
       "<IPython.core.display.HTML object>"
      ]
     },
     "metadata": {},
     "output_type": "display_data"
    },
    {
     "name": "stdout",
     "output_type": "stream",
     "text": [
      "Calling tool 'set_weather' with arguments: {'city': 'New York', 'temp': 30}\n"
     ]
    },
    {
     "data": {
      "text/html": [
       "\n",
       "            <details>\n",
       "            <summary>Function call: <tt>set_weather({\"city\":\"New York\",\"temp\":30})</tt></summary>\n",
       "            <div>\n",
       "                <b>Call</b>\n",
       "                <pre>ResponseFunctionToolCall(arguments='{\"city\":\"New York\",\"temp\":30}', call_id='call_gRroa8mLM1svT0iUgrMW5yRA', name='set_weather', type='function_call', id='fc_6870a12d22b4819cb14a89760f0b4fa106a499f6bd3d6918', status='completed')</pre>\n",
       "            </div>\n",
       "            <div>\n",
       "                <b>Output</b>\n",
       "                <pre>{\n",
       "  \"content\": [\n",
       "    {\n",
       "      \"type\": \"text\",\n",
       "      \"text\": \"OK\"\n",
       "    }\n",
       "  ],\n",
       "  \"isError\": false\n",
       "}</pre>\n",
       "            </div>\n",
       "            \n",
       "            </details>\n",
       "        "
      ],
      "text/plain": [
       "<IPython.core.display.HTML object>"
      ]
     },
     "metadata": {},
     "output_type": "display_data"
    },
    {
     "data": {
      "text/html": [
       "\n",
       "            <div>\n",
       "                <div><b>Assistant:</b></div>\n",
       "                <div><p>The temperature in New York has been set to 30°C. If you need anything else, feel free to ask!</p></div>\n",
       "            </div>\n",
       "        "
      ],
      "text/plain": [
       "<IPython.core.display.HTML object>"
      ]
     },
     "metadata": {},
     "output_type": "display_data"
    },
    {
     "name": "stdout",
     "output_type": "stream",
     "text": [
      "Calling tool 'get_weather' with arguments: {'city': 'New York'}\n"
     ]
    },
    {
     "data": {
      "text/html": [
       "\n",
       "            <details>\n",
       "            <summary>Function call: <tt>get_weather({\"city\":\"New York\"})</tt></summary>\n",
       "            <div>\n",
       "                <b>Call</b>\n",
       "                <pre>ResponseFunctionToolCall(arguments='{\"city\":\"New York\"}', call_id='call_WowMXG3UADU23rYZcgsPG7UZ', name='get_weather', type='function_call', id='fc_6870a13ad910819c9845106e53cc189d06a499f6bd3d6918', status='completed')</pre>\n",
       "            </div>\n",
       "            <div>\n",
       "                <b>Output</b>\n",
       "                <pre>{\n",
       "  \"content\": [\n",
       "    {\n",
       "      \"type\": \"text\",\n",
       "      \"text\": \"30.0\"\n",
       "    }\n",
       "  ],\n",
       "  \"structuredContent\": {\n",
       "    \"result\": 30.0\n",
       "  },\n",
       "  \"isError\": false\n",
       "}</pre>\n",
       "            </div>\n",
       "            \n",
       "            </details>\n",
       "        "
      ],
      "text/plain": [
       "<IPython.core.display.HTML object>"
      ]
     },
     "metadata": {},
     "output_type": "display_data"
    },
    {
     "data": {
      "text/html": [
       "\n",
       "            <div>\n",
       "                <div><b>Assistant:</b></div>\n",
       "                <div><p>The current temperature in New York is 30°C. Let me know if you need more information!</p></div>\n",
       "            </div>\n",
       "        "
      ],
      "text/plain": [
       "<IPython.core.display.HTML object>"
      ]
     },
     "metadata": {},
     "output_type": "display_data"
    },
    {
     "data": {
      "text/html": [
       "\n",
       "            <div>\n",
       "                <div><b>Assistant:</b></div>\n",
       "                <div><p>I don't have access to current averages or historical data for temperature. You might want to check a reliable weather website or database for that information. If you're looking for specific weather details or forecasts, let me know!</p></div>\n",
       "            </div>\n",
       "        "
      ],
      "text/plain": [
       "<IPython.core.display.HTML object>"
      ]
     },
     "metadata": {},
     "output_type": "display_data"
    },
    {
     "name": "stdout",
     "output_type": "stream",
     "text": [
      "Chat ended.\n"
     ]
    }
   ],
   "source": [
    "client = OpenAI()\n",
    "\n",
    "our_mcp_client = mcp_client.MCPClient([\"python\", \"weather_server.py\"])\n",
    "\n",
    "our_mcp_client.start_server()\n",
    "our_mcp_client.initialize()\n",
    "our_mcp_client.initialized()\n",
    "\n",
    "mcp_tools = mcp_client.MCPTools(mcp_client=our_mcp_client)\n",
    "\n",
    "\n",
    "developer_prompt = \"\"\"\n",
    "You help users find out the weather in their cities. \n",
    "If they didn't specify a city, ask them. Make sure we always use a city.\n",
    "\"\"\".strip()\n",
    "\n",
    "chat_interface = ChatInterface()\n",
    "\n",
    "chat = ChatAssistant(\n",
    "    tools=mcp_tools,\n",
    "    developer_prompt=developer_prompt,\n",
    "    chat_interface=chat_interface,\n",
    "    client=client\n",
    ")\n",
    "\n",
    "chat.run()"
   ]
  },
  {
   "cell_type": "code",
   "execution_count": null,
   "id": "4cabb4c3",
   "metadata": {},
   "outputs": [],
   "source": []
  }
 ],
 "metadata": {
  "kernelspec": {
   "display_name": "Python 3",
   "language": "python",
   "name": "python3"
  },
  "language_info": {
   "codemirror_mode": {
    "name": "ipython",
    "version": 3
   },
   "file_extension": ".py",
   "mimetype": "text/x-python",
   "name": "python",
   "nbconvert_exporter": "python",
   "pygments_lexer": "ipython3",
   "version": "3.10.12"
  }
 },
 "nbformat": 4,
 "nbformat_minor": 5
}
